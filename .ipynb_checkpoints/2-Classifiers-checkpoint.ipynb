{
 "cells": [
  {
   "cell_type": "markdown",
   "metadata": {},
   "source": [
    "# Artificial neural networks (10 marks)"
   ]
  },
  {
   "cell_type": "code",
   "execution_count": 1,
   "metadata": {},
   "outputs": [],
   "source": [
    "# Import libraries\n",
    "\n",
    "import numpy as np\n",
    "import matplotlib.pyplot as plt\n",
    "from sklearn.neural_network import MLPClassifier\n",
    "from sklearn.metrics import accuracy_score\n",
    "from matplotlib.colors import ListedColormap\n",
    "from sklearn.decomposition import PCA\n",
    "from sklearn.svm import SVC\n",
    "from sklearn.preprocessing import StandardScaler\n",
    "import time\n",
    "from model_utils import learning_curves"
   ]
  },
  {
   "cell_type": "code",
   "execution_count": 2,
   "metadata": {},
   "outputs": [],
   "source": [
    "# Load the fashion-MNIST dataset\n",
    "\n",
    "import mnist_reader\n",
    "X_train, y_train = mnist_reader.load_mnist('data/fashion', kind='train')\n",
    "X_test, y_test = mnist_reader.load_mnist('data/fashion', kind='t10k')\n",
    "scaler = StandardScaler()\n",
    "X_train = scaler.fit_transform(X_train)\n",
    "X_test = scaler.fit_transform(X_test)"
   ]
  },
  {
   "cell_type": "code",
   "execution_count": 3,
   "metadata": {},
   "outputs": [
    {
     "name": "stdout",
     "output_type": "stream",
     "text": [
      "Training accuracy: 0.9996666666666667\n",
      "Test set accuracy: 0.8833\n",
      "Training time: 114.92102217674255s\n"
     ]
    }
   ],
   "source": [
    "# Train a Neural Net\n",
    "\n",
    "mlp = MLPClassifier()\n",
    "start = time.time()\n",
    "mlp.fit(X_train, y_train)\n",
    "end = time.time()\n",
    "print(\"Training accuracy:\", accuracy_score(y_train, mlp.predict(X_train)))\n",
    "print(\"Test set accuracy:\", accuracy_score(y_test, mlp.predict(X_test)))\n",
    "print(f\"Training time: {end - start}s\")"
   ]
  },
  {
   "cell_type": "code",
   "execution_count": 4,
   "metadata": {},
   "outputs": [
    {
     "ename": "TypeError",
     "evalue": "cannot unpack non-iterable NoneType object",
     "output_type": "error",
     "traceback": [
      "\u001b[0;31m---------------------------------------------------------------------------\u001b[0m",
      "\u001b[0;31mTypeError\u001b[0m                                 Traceback (most recent call last)",
      "Input \u001b[0;32mIn [4]\u001b[0m, in \u001b[0;36m<cell line: 3>\u001b[0;34m()\u001b[0m\n\u001b[1;32m      1\u001b[0m \u001b[38;5;66;03m# Plot learning curves\u001b[39;00m\n\u001b[0;32m----> 3\u001b[0m N, train_score, val_score \u001b[38;5;241m=\u001b[39m learning_curves(mlp, X_train, y_train)\n",
      "\u001b[0;31mTypeError\u001b[0m: cannot unpack non-iterable NoneType object"
     ]
    },
    {
     "data": {
      "image/png": "[encoded data removed]",
      "text/plain": [
       "<Figure size 432x288 with 1 Axes>"
      ]
     },
     "metadata": {
      "needs_background": "light"
     },
     "output_type": "display_data"
    }
   ],
   "source": [
    "# Plot learning curves\n",
    "\n",
    "learning_curves(mlp, X_train, y_train)"
   ]
  },
  {
   "cell_type": "code",
   "execution_count": 56,
   "metadata": {},
   "outputs": [
    {
     "name": "stdout",
     "output_type": "stream",
     "text": [
      "Training accuracy for alpha = 0 : 0.89995\n",
      "Test accuracy for alpha = 0 : 0.8461\n",
      "Training accuracy for alpha = 1e-05 : 0.8940166666666667\n",
      "Test accuracy for alpha = 1e-05 : 0.8444\n",
      "Training accuracy for alpha = 0.0001 : 0.8952166666666667\n",
      "Test accuracy for alpha = 0.0001 : 0.843\n",
      "Training accuracy for alpha = 0.001 : 0.8948666666666667\n",
      "Test accuracy for alpha = 0.001 : 0.8479\n",
      "Training accuracy for alpha = 0.01 : 0.88725\n",
      "Test accuracy for alpha = 0.01 : 0.8487\n",
      "Training accuracy for alpha = 0.1 : 0.8883166666666666\n",
      "Test accuracy for alpha = 0.1 : 0.8511\n",
      "Training accuracy for alpha = 1 : 0.8766666666666667\n",
      "Test accuracy for alpha = 1 : 0.8505\n",
      "Training accuracy for alpha = 10 : 0.8549166666666667\n",
      "Test accuracy for alpha = 10 : 0.8321\n"
     ]
    }
   ],
   "source": [
    "# Compare different values of alpha\n",
    "\n",
    "alphas = [0, 0.00001,0.0001,0.001,0.01, 0.1, 1, 10]\n",
    "train_accuracies = []\n",
    "test_accuracies = []\n",
    "for alpha in alphas:\n",
    "    mlp = MLPClassifier(alpha=alpha)\n",
    "    mlp.fit(X_train, y_train)\n",
    "    train_acc = accuracy_score(y_train, mlp.predict(X_train))\n",
    "    test_acc = accuracy_score(y_test, mlp.predict(X_test))\n",
    "    print(\"Training accuracy for alpha =\", alpha, \":\", train_acc)\n",
    "    print(\"Test accuracy for alpha =\", alpha, \":\", test_acc)\n",
    "    train_accuracies.append(train_acc)\n",
    "    test_accuracies.append(test_acc)"
   ]
  },
  {
   "cell_type": "code",
   "execution_count": 57,
   "metadata": {},
   "outputs": [
    {
     "name": "stdout",
     "output_type": "stream",
     "text": [
      "[0.89995, 0.8940166666666667, 0.8952166666666667, 0.8948666666666667, 0.88725, 0.8883166666666666, 0.8766666666666667, 0.8549166666666667]\n",
      "[0.8461, 0.8444, 0.843, 0.8479, 0.8487, 0.8511, 0.8505, 0.8321]\n"
     ]
    },
    {
     "data": {
      "text/plain": [
       "<matplotlib.legend.Legend at 0x7fd088b83fa0>"
      ]
     },
     "execution_count": 57,
     "metadata": {},
     "output_type": "execute_result"
    },
    {
     "data": {
      "image/png": "[encoded data removed]",
      "text/plain": [
       "<Figure size 432x288 with 1 Axes>"
      ]
     },
     "metadata": {
      "needs_background": "light"
     },
     "output_type": "display_data"
    }
   ],
   "source": [
    "print(train_accuracies)\n",
    "print(test_accuracies)\n",
    "\n",
    "x = range(len(alphas))\n",
    "plt.plot(x, train_accuracies, label='Train')\n",
    "plt.plot(x, test_accuracies, label='Test')\n",
    "\n",
    "plt.xticks(x, alphas)\n",
    "plt.xlabel('alpha')\n",
    "plt.ylabel('accuracy')\n",
    "plt.legend()"
   ]
  },
  {
   "cell_type": "code",
   "execution_count": 63,
   "metadata": {},
   "outputs": [
    {
     "data": {
      "text/plain": [
       "0.008099999999999996"
      ]
     },
     "execution_count": 63,
     "metadata": {},
     "output_type": "execute_result"
    }
   ],
   "source": [
    "max(test_accuracies[0:len(alphas)-1]) - min(test_accuracies[0:len(alphas)-1])"
   ]
  },
  {
   "cell_type": "code",
   "execution_count": 13,
   "metadata": {},
   "outputs": [
    {
     "data": {
      "image/png": "[encoded data removed]",
      "text/plain": [
       "<Figure size 432x288 with 2 Axes>"
      ]
     },
     "metadata": {
      "needs_background": "light"
     },
     "output_type": "display_data"
    }
   ],
   "source": [
    "# Plot decision boundaries\n",
    "\n",
    "pca = PCA(n_components=2)\n",
    "Z = pca.fit_transform(X_train)\n",
    "V = pca.components_\n",
    "Z_x = Z[0]\n",
    "Z_y = Z[1]\n",
    "std_x = np.std(Z_x)\n",
    "std_y = np.std(Z_y)\n",
    "x_min, x_max = -5*std_x, 5*std_x\n",
    "y_min, y_max = -5*std_y, 5*std_y\n",
    "x_step = std_x/10\n",
    "y_step = std_y/10\n",
    "xx, yy = np.meshgrid(np.arange(x_min, x_max, x_step), np.arange(y_min, y_max, y_step))\n",
    "z = np.c_[xx.ravel(), yy.ravel()]\n",
    "x = np.dot(z,V)\n",
    "predictions = mlp.predict(x)\n",
    "predictions = predictions.reshape(xx.shape)\n",
    "\n",
    "cm_bright = ListedColormap(['#FF0000', '#0000FF'])\n",
    "\n",
    "contour = plt.contourf(xx, yy, predictions, cmap=plt.cm.RdBu, alpha=0.8)\n",
    "clb = plt.colorbar(contour, boundaries=list(np.unique(predictions)), ticks=list(np.unique(predictions)),spacing='proportional')\n",
    "clb.ax.set_title('Class')\n",
    "plt.xlabel('1st Principal Component')\n",
    "plt.ylabel('2nd Principal Component')\n",
    "plt.show()"
   ]
  },
  {
   "cell_type": "markdown",
   "metadata": {},
   "source": [
    "# Support vector machines (15 marks)"
   ]
  },
  {
   "cell_type": "code",
   "execution_count": 7,
   "metadata": {},
   "outputs": [
    {
     "name": "stdout",
     "output_type": "stream",
     "text": [
      "SVM classifier train accuracy: 0.9237\n",
      "SVM classifier test accuracy: 0.8836\n",
      "Training time: 600.1504299640656s\n"
     ]
    }
   ],
   "source": [
    "svm = SVC()\n",
    "start = time.time()\n",
    "svm.fit(X_train, y_train)\n",
    "end = time.time()\n",
    "print(f'SVM classifier train accuracy: {svm.score(X_train, y_train)}')\n",
    "print(f'SVM classifier test accuracy: {svm.score(X_test, y_test)}')\n",
    "print(f\"Training time: {end - start}s\")"
   ]
  },
  {
   "cell_type": "code",
   "execution_count": null,
   "metadata": {},
   "outputs": [],
   "source": [
    "learning_curves(svm, X_train, y_train)"
   ]
  },
  {
   "cell_type": "code",
   "execution_count": 14,
   "metadata": {},
   "outputs": [
    {
     "name": "stderr",
     "output_type": "stream",
     "text": [
      "/Users/lucy/opt/anaconda3/envs/ML_labs/lib/python3.10/site-packages/sklearn/svm/_base.py:284: ConvergenceWarning: Solver terminated early (max_iter=1000).  Consider pre-processing your data with StandardScaler or MinMaxScaler.\n",
      "  warnings.warn(\n"
     ]
    },
    {
     "name": "stdout",
     "output_type": "stream",
     "text": [
      "Training accuracy for linear : 0.6186833333333334\n",
      "Test accuracy for linear : 0.5965\n"
     ]
    },
    {
     "name": "stderr",
     "output_type": "stream",
     "text": [
      "/Users/lucy/opt/anaconda3/envs/ML_labs/lib/python3.10/site-packages/sklearn/svm/_base.py:284: ConvergenceWarning: Solver terminated early (max_iter=1000).  Consider pre-processing your data with StandardScaler or MinMaxScaler.\n",
      "  warnings.warn(\n"
     ]
    },
    {
     "name": "stdout",
     "output_type": "stream",
     "text": [
      "Training accuracy for poly : 0.6362666666666666\n",
      "Test accuracy for poly : 0.6267\n"
     ]
    },
    {
     "name": "stderr",
     "output_type": "stream",
     "text": [
      "/Users/lucy/opt/anaconda3/envs/ML_labs/lib/python3.10/site-packages/sklearn/svm/_base.py:284: ConvergenceWarning: Solver terminated early (max_iter=1000).  Consider pre-processing your data with StandardScaler or MinMaxScaler.\n",
      "  warnings.warn(\n"
     ]
    },
    {
     "name": "stdout",
     "output_type": "stream",
     "text": [
      "Training accuracy for rbf : 0.87415\n",
      "Test accuracy for rbf : 0.8431\n"
     ]
    },
    {
     "name": "stderr",
     "output_type": "stream",
     "text": [
      "/Users/lucy/opt/anaconda3/envs/ML_labs/lib/python3.10/site-packages/sklearn/svm/_base.py:284: ConvergenceWarning: Solver terminated early (max_iter=1000).  Consider pre-processing your data with StandardScaler or MinMaxScaler.\n",
      "  warnings.warn(\n"
     ]
    },
    {
     "name": "stdout",
     "output_type": "stream",
     "text": [
      "Training accuracy for sigmoid : 0.6952666666666667\n",
      "Test accuracy for sigmoid : 0.6857\n"
     ]
    }
   ],
   "source": [
    "# Compare different types of kernel {‘linear’, ‘poly’, ‘rbf’, ‘sigmoid’, ‘precomputed’} default=’rbf’\n",
    "\n",
    "kernels = [\"linear\", \"poly\", \"rbf\", \"sigmoid\"]\n",
    "train_accuracies = []\n",
    "test_accuracies = []\n",
    "for kernel in kernels:\n",
    "    svm = SVC(kernel=kernel, max_iter=1000)\n",
    "    svm.fit(scaled_x_train, y_train)\n",
    "    train_acc = accuracy_score(y_train, svm.predict(X_train))\n",
    "    test_acc = accuracy_score(y_test, svm.predict(X_test))\n",
    "    print(\"Training accuracy for\", kernel, \":\", train_acc)\n",
    "    print(\"Test accuracy for\", kernel, \":\", test_acc)\n",
    "    train_accuracies.append(train_acc)\n",
    "    test_accuracies.append(test_acc)"
   ]
  },
  {
   "cell_type": "code",
   "execution_count": 5,
   "metadata": {},
   "outputs": [
    {
     "ename": "NameError",
     "evalue": "name 'train_accuracies' is not defined",
     "output_type": "error",
     "traceback": [
      "\u001b[0;31m---------------------------------------------------------------------------\u001b[0m",
      "\u001b[0;31mNameError\u001b[0m                                 Traceback (most recent call last)",
      "Input \u001b[0;32mIn [5]\u001b[0m, in \u001b[0;36m<cell line: 1>\u001b[0;34m()\u001b[0m\n\u001b[0;32m----> 1\u001b[0m \u001b[38;5;28mprint\u001b[39m(\u001b[43mtrain_accuracies\u001b[49m)\n\u001b[1;32m      2\u001b[0m \u001b[38;5;28mprint\u001b[39m(test_accuracies)\n",
      "\u001b[0;31mNameError\u001b[0m: name 'train_accuracies' is not defined"
     ]
    }
   ],
   "source": [
    "print(train_accuracies)\n",
    "print(test_accuracies)"
   ]
  },
  {
   "cell_type": "code",
   "execution_count": null,
   "metadata": {},
   "outputs": [],
   "source": [
    "# Plot result of changing gamma in RBF kernel\n",
    "\n",
    "gammas = [0.001, 0.01, 0.1, 1, 10]\n",
    "train_accuracies = []\n",
    "test_accuracies = []\n",
    "for gamma in gammas:\n",
    "    svm = SVC(gamma=gamma, max_iter=1000)\n",
    "    svm.fit(X_train, y_train)\n",
    "    train_acc = accuracy_score(y_train, svm.predict(X_train))\n",
    "    test_acc = accuracy_score(y_test, svm.predict(X_test))\n",
    "    print(\"Training accuracy for\", gamma, \":\", train_acc)\n",
    "    print(\"Test accuracy for\", gamma, \":\", test_acc)\n",
    "    train_accuracies.append(train_acc)\n",
    "    test_accuracies.append(test_acc)"
   ]
  },
  {
   "cell_type": "code",
   "execution_count": null,
   "metadata": {},
   "outputs": [],
   "source": [
    "print(train_accuracies)\n",
    "print(test_accuracies)\n",
    "\n",
    "x = range(len(gammas))\n",
    "plt.plot(x, train_accuracies, label='Train')\n",
    "plt.plot(x, test_accuracies, label='Test')\n",
    "\n",
    "plt.xticks(x, gammas)\n",
    "plt.xlabel('gamma')\n",
    "plt.ylabel('accuracy')\n",
    "plt.legend()"
   ]
  },
  {
   "cell_type": "code",
   "execution_count": 10,
   "metadata": {},
   "outputs": [
    {
     "data": {
      "text/plain": [
       "[]"
      ]
     },
     "execution_count": 10,
     "metadata": {},
     "output_type": "execute_result"
    },
    {
     "data": {
      "image/png": "[encoded data removed]",
      "text/plain": [
       "<Figure size 432x288 with 2 Axes>"
      ]
     },
     "metadata": {
      "needs_background": "light"
     },
     "output_type": "display_data"
    }
   ],
   "source": [
    "# Plot decision boundaries\n",
    "\n",
    "pca = PCA(n_components=2)\n",
    "Z = pca.fit_transform(X_train)\n",
    "V = pca.components_\n",
    "Z_x = Z[0]\n",
    "Z_y = Z[1]\n",
    "std_x = np.std(Z_x)\n",
    "std_y = np.std(Z_y)\n",
    "x_min, x_max = -5*std_x, 5*std_x\n",
    "y_min, y_max = -5*std_y, 5*std_y\n",
    "x_step = std_x/10\n",
    "y_step = std_y/10\n",
    "xx, yy = np.meshgrid(np.arange(x_min, x_max, x_step), np.arange(y_min, y_max, y_step))\n",
    "z = np.c_[xx.ravel(), yy.ravel()]\n",
    "x = np.dot(z,V)\n",
    "predictions = svm.predict(x)\n",
    "predictions = predictions.reshape(xx.shape)\n",
    "\n",
    "cm_bright = ListedColormap(['#FF0000', '#0000FF'])\n",
    "\n",
    "contour = plt.contourf(xx, yy, predictions, cmap=plt.cm.RdBu, alpha=0.8)\n",
    "clb = plt.colorbar(contour, boundaries=list(np.unique(predictions)), ticks=list(np.unique(predictions)),spacing='proportional')\n",
    "clb.ax.set_title('Class')\n",
    "plt.xlabel('1st Principal Component')\n",
    "plt.ylabel('2nd Principal Component')\n",
    "plt.show()"
   ]
  },
  {
   "cell_type": "code",
   "execution_count": null,
   "metadata": {},
   "outputs": [],
   "source": []
  }
 ],
 "metadata": {
  "kernelspec": {
   "display_name": "ML_labs",
   "language": "python",
   "name": "ml_labs"
  },
  "language_info": {
   "codemirror_mode": {
    "name": "ipython",
    "version": 3
   },
   "file_extension": ".py",
   "mimetype": "text/x-python",
   "name": "python",
   "nbconvert_exporter": "python",
   "pygments_lexer": "ipython3",
   "version": "3.10.4"
  }
 },
 "nbformat": 4,
 "nbformat_minor": 4
}
