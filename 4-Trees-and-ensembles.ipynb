{
 "cells": [
  {
   "cell_type": "code",
   "execution_count": null,
   "metadata": {},
   "outputs": [],
   "source": [
    "# CART Decision Trees (15 marks)"
   ]
  },
  {
   "cell_type": "code",
   "execution_count": 37,
   "metadata": {},
   "outputs": [],
   "source": [
    "from sklearn.datasets import fetch_california_housing\n",
    "from sklearn.model_selection import train_test_split\n",
    "from sklearn.tree import DecisionTreeRegressor\n",
    "import pandas as pd\n",
    "import numpy as np"
   ]
  },
  {
   "cell_type": "code",
   "execution_count": 38,
   "metadata": {},
   "outputs": [],
   "source": [
    "# Fetch California housing dataset\n",
    "\n",
    "california_housing = fetch_california_housing()\n",
    "data = pd.DataFrame(data=california_housing['data'])\n",
    "target = pd.DataFrame(data=california_housing['target'])\n",
    "feature_names = california_housing['feature_names']\n",
    "data.rename(columns={0: feature_names[0], 1: feature_names[1], 2: feature_names[2], 3: feature_names[3],\n",
    " 4: feature_names[4], 5: feature_names[5], 6: feature_names[6], 7: feature_names[7]}, inplace=True)\n",
    "target.rename(columns={0: 'Target'}, inplace=True)\n",
    "housing = pd.concat([data, target], axis=1)\n",
    "\n",
    "X_train, X_test, y_train, y_test = train_test_split(\n",
    "    housing.loc[:,housing.columns != 'Target'], housing['Target'], random_state=66)"
   ]
  },
  {
   "cell_type": "code",
   "execution_count": 39,
   "metadata": {},
   "outputs": [
    {
     "name": "stdout",
     "output_type": "stream",
     "text": [
      "R of Decision Tree Regressor on training set: 1.0\n",
      "R of Decision Tree Regressor on test set: 0.6130425164219409\n"
     ]
    }
   ],
   "source": [
    "# Apply a decision tree regressor to the California housing dataset\n",
    "\n",
    "housing_features = [x for i,x in enumerate(housing.columns) if i!=8]\n",
    "tree = DecisionTreeRegressor(random_state=0)\n",
    "tree.fit(X_train, y_train)\n",
    "t1 = tree.score(X_train, y_train)\n",
    "t2 = tree.score(X_test, y_test)\n",
    "print(\"R of Decision Tree Regressor on training set:\", t1)\n",
    "print(\"R of Decision Tree Regressor on test set:\", t2)"
   ]
  },
  {
   "cell_type": "code",
   "execution_count": 40,
   "metadata": {},
   "outputs": [],
   "source": [
    "# Ensemble Methods (10 marks)"
   ]
  },
  {
   "cell_type": "code",
   "execution_count": null,
   "metadata": {},
   "outputs": [],
   "source": [
    "X_train = X_train.to_numpy()\n",
    "y_train = y_train.to_numpy()"
   ]
  },
  {
   "cell_type": "code",
   "execution_count": 44,
   "metadata": {},
   "outputs": [
    {
     "name": "stdout",
     "output_type": "stream",
     "text": [
      "[6.45994832e-05 6.45994832e-05 6.45994832e-05 ... 6.45994832e-05\n",
      " 6.45994832e-05 6.45994832e-05]\n",
      "[6.45994832e-05 6.45994832e-05 6.45994832e-05 ... 8.70983830e-04\n",
      " 6.45994832e-05 6.45994832e-05]\n",
      "[6.45994832e-05 6.45994832e-05 6.45994832e-05 ... 1.06536360e-03\n",
      " 8.70983830e-04 6.45994832e-05]\n",
      "[1.06536360e-03 6.45994832e-05 6.45994832e-05 ... 6.45994832e-05\n",
      " 8.70983830e-04 6.45994832e-05]\n",
      "[6.45994832e-05 6.45994832e-05 6.45994832e-05 ... 3.05558068e-03\n",
      " 2.70662481e-03 6.45994832e-05]\n",
      "[2.70662481e-03 6.45994832e-05 6.45994832e-05 ... 1.06536360e-03\n",
      " 6.45994832e-05 1.06536360e-03]\n",
      "[6.45994832e-05 6.45994832e-05 6.45994832e-05 ... 6.45994832e-05\n",
      " 2.70662481e-03 1.87580539e-01]\n",
      "[6.45994832e-05 1.53374565e-02 8.70983830e-04 ... 6.45994832e-05\n",
      " 6.45994832e-05 6.45994832e-05]\n",
      "[1.96100294e+01 6.45994832e-05 6.45994832e-05 ... 1.75299985e+01\n",
      " 4.72341381e+01 3.05558068e-03]\n",
      "[1.07516377e-01 6.45994832e-05 1.07516377e-01 ... 6.45994832e-05\n",
      " 8.87263245e+00 2.83798711e-02]\n",
      "[6.45994832e-05 4.93816729e-01 1.80990667e+01 ... 5.03921129e-02\n",
      " 1.07516377e-01 1.96684502e+00]\n",
      "[7.11167019e+05 4.93816729e-01 2.70662481e-03 ... 4.61430788e+02\n",
      " 5.08556644e+00 3.26097866e+03]\n",
      "[3.23201084e+01 6.45994832e-05 1.06536360e-03 ... 3.48162227e+02\n",
      " 2.00189816e+05 6.45994832e-05]\n",
      "[1.06536360e-03 3.85211570e+02 6.45994832e-05 ... 2.70662481e-03\n",
      " 3.52451249e+02 2.88856576e+03]\n",
      "[6.45994832e-05 6.45994832e-05 6.45994832e-05 ... 8.21885607e+02\n",
      " 1.11519135e+10 3.48162227e+02]\n",
      "[3.72801891e+06 1.18907551e+00 6.45994832e-05 ... 1.83742592e+10\n",
      " 7.63153959e+08 1.52875370e+03]\n",
      "[1.41988831e+04 6.45994832e-05 4.47701722e-03 ... 4.93816729e-01\n",
      " 6.45994832e-05 1.53374565e-02]\n",
      "[6.45994832e-05 1.52954771e+05 6.45994832e-05 ... 2.40476119e+04\n",
      " 6.45994832e-05 1.74190881e+08]\n",
      "[7.45677620e+09 1.20412983e+10 3.33345503e+06 ... 1.09484718e+02\n",
      " 1.45874932e+04 6.45994832e-05]\n",
      "[1.89233331e+06 2.31466845e+00 6.45994832e-05 ... 5.05743788e+06\n",
      " 5.59001303e+05 5.86588931e+07]\n",
      "[3.28948022e-16 2.66659350e+09 3.05558068e-03 ... 1.44555917e+04\n",
      " 2.31466845e+00 8.76530555e+02]\n",
      "[2.09339242e+16 5.08401991e+02 2.52700850e+00 ... 8.08779533e+13\n",
      " 1.15122158e+04 6.45994832e-05]\n",
      "[6.45994832e-05 1.20706746e+05 6.45994832e-05 ... 5.33017687e+02\n",
      " 6.45994832e-05 6.45994832e-05]\n",
      "[3.06527154e+22 3.49457523e-09 2.52942704e-01 ... 1.13544008e+20\n",
      " 1.52875370e+03 4.50478050e+00]\n",
      "[3.82482830e-12 8.16322876e+00 2.37871522e+07 ... 2.87405572e+12\n",
      " 6.94398118e+20 8.80026350e+07]\n",
      "[6.45994832e-05 1.40314930e+13 3.05558068e-03 ... 1.83707157e+03\n",
      " 1.24750243e+07 2.66659350e+09]\n",
      "[2.80658684e+16 9.38494094e+04 9.84012395e+02 ... 5.75973743e+09\n",
      " 1.96684502e+00 8.19594723e-03]\n",
      "[3.52344068e+04 4.38541628e+08 9.06018613e+10 ... 1.69244960e+06\n",
      " 8.18416925e-06 1.60217975e+06]\n",
      "[3.23201084e+01 1.21571535e+19 9.95370935e+21 ... 4.93816729e-01\n",
      " 7.57379485e-13 6.09206142e-10]\n",
      "[6.45994832e-05 1.53374565e-02 7.51913894e+36 ... 7.02809571e+10\n",
      " 1.01497512e+29 8.21885607e+02]\n",
      "[3.05558068e-03 3.48162227e+02 3.16271180e+15 ... 3.21511212e+05\n",
      " 2.91113656e+16 4.93382479e+10]\n",
      "[6.42529266e-05 6.85469745e+03 3.45252484e+23 ... 8.22150536e+40\n",
      " 9.76165747e+10 3.72199389e+09]\n",
      "[1.14619201e+29 7.84512490e+11 5.69601463e+04 ... 1.72324212e+15\n",
      " 8.98784974e+02 2.21069512e-02]\n",
      "[5.97489979e+09 2.04279985e+30 6.45994832e-05 ... 7.52424445e+15\n",
      " 4.29304839e+01 8.13621978e+29]\n",
      "[2.72806297e+19 2.82956557e+01 5.27973883e+11 ... 8.16322876e+00\n",
      " 3.84861525e+05 4.73954341e+02]\n",
      "[3.69394469e+29 4.94692904e+06 2.08939224e+10 ... 2.41185223e+02\n",
      " 2.50227934e+12 2.84830560e+26]\n",
      "[3.46941229e+23 9.71044349e+09 5.49557441e+02 ... 2.78096185e+01\n",
      " 1.75671729e+00 1.35060652e+33]\n",
      "[4.32546866e+02 1.82647196e+14 1.76011698e-08 ... 2.83266691e+14\n",
      " 3.97607217e+26 1.53374565e-02]\n",
      "[3.10754614e+30 1.60782817e+11 1.41582912e+19 ... 3.69347385e-02\n",
      " 1.88355064e+15 6.45994832e-05]\n",
      "[7.40244211e+11 4.33013825e+11 1.68394700e+11 ... 1.10652331e+13\n",
      " 5.56640616e+03 3.02875832e+04]\n",
      "[4.03253862e+12 1.36297688e+31 7.67616147e+25 ... 1.93316726e+22\n",
      " 4.50478050e+00 1.28256834e+43]\n",
      "[1.40870871e+41 1.22886211e+02 3.07341019e+51 ... 2.85166348e+26\n",
      " 1.57762670e+29 6.17215424e+43]\n",
      "[5.00972895e+17 1.92028617e+42 7.57029793e+26 ... 1.08601400e+24\n",
      " 9.98389589e+07 2.20620786e+46]\n",
      "[3.73117502e+24 5.72188467e+44 2.31466845e+00 ... 9.51064486e-03\n",
      " 8.07345991e+22 2.89604882e+24]\n",
      "[1.65471677e+07 2.57858225e+11 1.75182169e+28 ... 2.19851807e+52\n",
      " 6.24880754e+09 2.30154981e+34]\n",
      "[7.36382487e+27 2.11048313e+39 3.63197717e+17 ... 1.62017551e+16\n",
      " 6.44490689e+20 2.00633445e+32]\n",
      "[3.01903384e+12 1.64798105e+71 1.05151929e+54 ... 1.25289606e+36\n",
      " 2.46112799e+27 1.11780117e+07]\n",
      "[9.72172881e+27 1.63236483e+11 7.08002182e+02 ... 1.00229562e+13\n",
      " 5.37266829e+00 1.18130550e+04]\n",
      "[1.55816664e+50 3.02152744e+19 1.69490228e-11 ... 8.68651194e+55\n",
      " 2.66288973e+27 4.85357710e+60]\n",
      "[1.00036835e+15 1.86574968e+07 7.92513112e+45 ... 2.34524651e+15\n",
      " 5.24711432e+37 8.84362542e+27]\n",
      "[2.50199327e+30 2.79564301e+28 1.92412387e+28 ... 4.24144469e+26\n",
      " 1.42618579e+25 2.89135572e+56]\n",
      "[1.97307290e+32 2.36773691e+33 1.79273705e+30 ... 1.29180873e+24\n",
      " 2.53285678e+14 1.79383487e+05]\n",
      "[9.17482225e+38 1.50303280e+46 5.33725743e+64 ... 1.21681399e+39\n",
      " 7.02857718e+46 2.77239111e+21]\n",
      "[2.28552016e+12 1.58678653e+04 5.37345380e+44 ... 4.36899750e+12\n",
      " 6.18311306e+44 3.27306479e+29]\n",
      "[2.29382067e+35 2.44671963e+51 5.28969278e+29 ... 9.91984233e+11\n",
      " 8.06835565e+32 2.55258271e+46]\n",
      "[1.26484087e+53 3.47973769e+46 3.59488201e+41 ... 3.65192757e+38\n",
      " 8.43415121e+20 9.04745273e+16]\n"
     ]
    },
    {
     "name": "stderr",
     "output_type": "stream",
     "text": [
      "/var/folders/8g/b7_xy_gx7ysgvrt10qyzhv7c0000gn/T/ipykernel_92650/2012944440.py:28: RuntimeWarning: divide by zero encountered in log\n",
      "  alpha = np.log((1-error)/error)\n",
      "/var/folders/8g/b7_xy_gx7ysgvrt10qyzhv7c0000gn/T/ipykernel_92650/2012944440.py:33: RuntimeWarning: invalid value encountered in multiply\n",
      "  sample_weights[sample_idx] *= np.exp(alpha*incorrect_preds)\n"
     ]
    },
    {
     "ename": "ValueError",
     "evalue": "Input contains NaN, infinity or a value too large for dtype('float64').",
     "output_type": "error",
     "traceback": [
      "\u001b[0;31m---------------------------------------------------------------------------\u001b[0m",
      "\u001b[0;31mValueError\u001b[0m                                Traceback (most recent call last)",
      "Input \u001b[0;32mIn [44]\u001b[0m, in \u001b[0;36m<cell line: 12>\u001b[0;34m()\u001b[0m\n\u001b[1;32m     19\u001b[0m model \u001b[38;5;241m=\u001b[39m DecisionTreeRegressor(max_depth\u001b[38;5;241m=\u001b[39m\u001b[38;5;241m10\u001b[39m)\n\u001b[1;32m     21\u001b[0m \u001b[38;5;66;03m# train a decision tree classifier on the weighted random sample.\u001b[39;00m\n\u001b[0;32m---> 22\u001b[0m \u001b[43mmodel\u001b[49m\u001b[38;5;241;43m.\u001b[39;49m\u001b[43mfit\u001b[49m\u001b[43m(\u001b[49m\u001b[43mX_train_sample\u001b[49m\u001b[43m,\u001b[49m\u001b[43m \u001b[49m\u001b[43my_train_sample\u001b[49m\u001b[43m,\u001b[49m\u001b[43m \u001b[49m\u001b[43msample_weights\u001b[49m\u001b[43m[\u001b[49m\u001b[43msample_idx\u001b[49m\u001b[43m]\u001b[49m\u001b[43m)\u001b[49m\n\u001b[1;32m     24\u001b[0m \u001b[38;5;66;03m# compute the model error using weighted accuracy for the sampled training dataset\u001b[39;00m\n\u001b[1;32m     25\u001b[0m error \u001b[38;5;241m=\u001b[39m \u001b[38;5;241m1\u001b[39m\u001b[38;5;241m-\u001b[39mmodel\u001b[38;5;241m.\u001b[39mscore(X_train_sample, y_train_sample, sample_weights[sample_idx])\n",
      "File \u001b[0;32m~/opt/anaconda3/envs/ML_labs/lib/python3.10/site-packages/sklearn/tree/_classes.py:1315\u001b[0m, in \u001b[0;36mDecisionTreeRegressor.fit\u001b[0;34m(self, X, y, sample_weight, check_input, X_idx_sorted)\u001b[0m\n\u001b[1;32m   1278\u001b[0m \u001b[38;5;28;01mdef\u001b[39;00m \u001b[38;5;21mfit\u001b[39m(\n\u001b[1;32m   1279\u001b[0m     \u001b[38;5;28mself\u001b[39m, X, y, sample_weight\u001b[38;5;241m=\u001b[39m\u001b[38;5;28;01mNone\u001b[39;00m, check_input\u001b[38;5;241m=\u001b[39m\u001b[38;5;28;01mTrue\u001b[39;00m, X_idx_sorted\u001b[38;5;241m=\u001b[39m\u001b[38;5;124m\"\u001b[39m\u001b[38;5;124mdeprecated\u001b[39m\u001b[38;5;124m\"\u001b[39m\n\u001b[1;32m   1280\u001b[0m ):\n\u001b[1;32m   1281\u001b[0m     \u001b[38;5;124;03m\"\"\"Build a decision tree regressor from the training set (X, y).\u001b[39;00m\n\u001b[1;32m   1282\u001b[0m \n\u001b[1;32m   1283\u001b[0m \u001b[38;5;124;03m    Parameters\u001b[39;00m\n\u001b[0;32m   (...)\u001b[0m\n\u001b[1;32m   1312\u001b[0m \u001b[38;5;124;03m        Fitted estimator.\u001b[39;00m\n\u001b[1;32m   1313\u001b[0m \u001b[38;5;124;03m    \"\"\"\u001b[39;00m\n\u001b[0;32m-> 1315\u001b[0m     \u001b[38;5;28;43msuper\u001b[39;49m\u001b[43m(\u001b[49m\u001b[43m)\u001b[49m\u001b[38;5;241;43m.\u001b[39;49m\u001b[43mfit\u001b[49m\u001b[43m(\u001b[49m\n\u001b[1;32m   1316\u001b[0m \u001b[43m        \u001b[49m\u001b[43mX\u001b[49m\u001b[43m,\u001b[49m\n\u001b[1;32m   1317\u001b[0m \u001b[43m        \u001b[49m\u001b[43my\u001b[49m\u001b[43m,\u001b[49m\n\u001b[1;32m   1318\u001b[0m \u001b[43m        \u001b[49m\u001b[43msample_weight\u001b[49m\u001b[38;5;241;43m=\u001b[39;49m\u001b[43msample_weight\u001b[49m\u001b[43m,\u001b[49m\n\u001b[1;32m   1319\u001b[0m \u001b[43m        \u001b[49m\u001b[43mcheck_input\u001b[49m\u001b[38;5;241;43m=\u001b[39;49m\u001b[43mcheck_input\u001b[49m\u001b[43m,\u001b[49m\n\u001b[1;32m   1320\u001b[0m \u001b[43m        \u001b[49m\u001b[43mX_idx_sorted\u001b[49m\u001b[38;5;241;43m=\u001b[39;49m\u001b[43mX_idx_sorted\u001b[49m\u001b[43m,\u001b[49m\n\u001b[1;32m   1321\u001b[0m \u001b[43m    \u001b[49m\u001b[43m)\u001b[49m\n\u001b[1;32m   1322\u001b[0m     \u001b[38;5;28;01mreturn\u001b[39;00m \u001b[38;5;28mself\u001b[39m\n",
      "File \u001b[0;32m~/opt/anaconda3/envs/ML_labs/lib/python3.10/site-packages/sklearn/tree/_classes.py:321\u001b[0m, in \u001b[0;36mBaseDecisionTree.fit\u001b[0;34m(self, X, y, sample_weight, check_input, X_idx_sorted)\u001b[0m\n\u001b[1;32m    314\u001b[0m     \u001b[38;5;28;01mraise\u001b[39;00m \u001b[38;5;167;01mValueError\u001b[39;00m(\n\u001b[1;32m    315\u001b[0m         (\u001b[38;5;124m\"\u001b[39m\u001b[38;5;124mmax_leaf_nodes \u001b[39m\u001b[38;5;132;01m{0}\u001b[39;00m\u001b[38;5;124m must be either None or larger than 1\u001b[39m\u001b[38;5;124m\"\u001b[39m)\u001b[38;5;241m.\u001b[39mformat(\n\u001b[1;32m    316\u001b[0m             max_leaf_nodes\n\u001b[1;32m    317\u001b[0m         )\n\u001b[1;32m    318\u001b[0m     )\n\u001b[1;32m    320\u001b[0m \u001b[38;5;28;01mif\u001b[39;00m sample_weight \u001b[38;5;129;01mis\u001b[39;00m \u001b[38;5;129;01mnot\u001b[39;00m \u001b[38;5;28;01mNone\u001b[39;00m:\n\u001b[0;32m--> 321\u001b[0m     sample_weight \u001b[38;5;241m=\u001b[39m \u001b[43m_check_sample_weight\u001b[49m\u001b[43m(\u001b[49m\u001b[43msample_weight\u001b[49m\u001b[43m,\u001b[49m\u001b[43m \u001b[49m\u001b[43mX\u001b[49m\u001b[43m,\u001b[49m\u001b[43m \u001b[49m\u001b[43mDOUBLE\u001b[49m\u001b[43m)\u001b[49m\n\u001b[1;32m    323\u001b[0m \u001b[38;5;28;01mif\u001b[39;00m expanded_class_weight \u001b[38;5;129;01mis\u001b[39;00m \u001b[38;5;129;01mnot\u001b[39;00m \u001b[38;5;28;01mNone\u001b[39;00m:\n\u001b[1;32m    324\u001b[0m     \u001b[38;5;28;01mif\u001b[39;00m sample_weight \u001b[38;5;129;01mis\u001b[39;00m \u001b[38;5;129;01mnot\u001b[39;00m \u001b[38;5;28;01mNone\u001b[39;00m:\n",
      "File \u001b[0;32m~/opt/anaconda3/envs/ML_labs/lib/python3.10/site-packages/sklearn/utils/validation.py:1553\u001b[0m, in \u001b[0;36m_check_sample_weight\u001b[0;34m(sample_weight, X, dtype, copy)\u001b[0m\n\u001b[1;32m   1551\u001b[0m \u001b[38;5;28;01mif\u001b[39;00m dtype \u001b[38;5;129;01mis\u001b[39;00m \u001b[38;5;28;01mNone\u001b[39;00m:\n\u001b[1;32m   1552\u001b[0m     dtype \u001b[38;5;241m=\u001b[39m [np\u001b[38;5;241m.\u001b[39mfloat64, np\u001b[38;5;241m.\u001b[39mfloat32]\n\u001b[0;32m-> 1553\u001b[0m sample_weight \u001b[38;5;241m=\u001b[39m \u001b[43mcheck_array\u001b[49m\u001b[43m(\u001b[49m\n\u001b[1;32m   1554\u001b[0m \u001b[43m    \u001b[49m\u001b[43msample_weight\u001b[49m\u001b[43m,\u001b[49m\n\u001b[1;32m   1555\u001b[0m \u001b[43m    \u001b[49m\u001b[43maccept_sparse\u001b[49m\u001b[38;5;241;43m=\u001b[39;49m\u001b[38;5;28;43;01mFalse\u001b[39;49;00m\u001b[43m,\u001b[49m\n\u001b[1;32m   1556\u001b[0m \u001b[43m    \u001b[49m\u001b[43mensure_2d\u001b[49m\u001b[38;5;241;43m=\u001b[39;49m\u001b[38;5;28;43;01mFalse\u001b[39;49;00m\u001b[43m,\u001b[49m\n\u001b[1;32m   1557\u001b[0m \u001b[43m    \u001b[49m\u001b[43mdtype\u001b[49m\u001b[38;5;241;43m=\u001b[39;49m\u001b[43mdtype\u001b[49m\u001b[43m,\u001b[49m\n\u001b[1;32m   1558\u001b[0m \u001b[43m    \u001b[49m\u001b[43morder\u001b[49m\u001b[38;5;241;43m=\u001b[39;49m\u001b[38;5;124;43m\"\u001b[39;49m\u001b[38;5;124;43mC\u001b[39;49m\u001b[38;5;124;43m\"\u001b[39;49m\u001b[43m,\u001b[49m\n\u001b[1;32m   1559\u001b[0m \u001b[43m    \u001b[49m\u001b[43mcopy\u001b[49m\u001b[38;5;241;43m=\u001b[39;49m\u001b[43mcopy\u001b[49m\u001b[43m,\u001b[49m\n\u001b[1;32m   1560\u001b[0m \u001b[43m\u001b[49m\u001b[43m)\u001b[49m\n\u001b[1;32m   1561\u001b[0m \u001b[38;5;28;01mif\u001b[39;00m sample_weight\u001b[38;5;241m.\u001b[39mndim \u001b[38;5;241m!=\u001b[39m \u001b[38;5;241m1\u001b[39m:\n\u001b[1;32m   1562\u001b[0m     \u001b[38;5;28;01mraise\u001b[39;00m \u001b[38;5;167;01mValueError\u001b[39;00m(\u001b[38;5;124m\"\u001b[39m\u001b[38;5;124mSample weights must be 1D array or scalar\u001b[39m\u001b[38;5;124m\"\u001b[39m)\n",
      "File \u001b[0;32m~/opt/anaconda3/envs/ML_labs/lib/python3.10/site-packages/sklearn/utils/validation.py:800\u001b[0m, in \u001b[0;36mcheck_array\u001b[0;34m(array, accept_sparse, accept_large_sparse, dtype, order, copy, force_all_finite, ensure_2d, allow_nd, ensure_min_samples, ensure_min_features, estimator)\u001b[0m\n\u001b[1;32m    794\u001b[0m         \u001b[38;5;28;01mraise\u001b[39;00m \u001b[38;5;167;01mValueError\u001b[39;00m(\n\u001b[1;32m    795\u001b[0m             \u001b[38;5;124m\"\u001b[39m\u001b[38;5;124mFound array with dim \u001b[39m\u001b[38;5;132;01m%d\u001b[39;00m\u001b[38;5;124m. \u001b[39m\u001b[38;5;132;01m%s\u001b[39;00m\u001b[38;5;124m expected <= 2.\u001b[39m\u001b[38;5;124m\"\u001b[39m\n\u001b[1;32m    796\u001b[0m             \u001b[38;5;241m%\u001b[39m (array\u001b[38;5;241m.\u001b[39mndim, estimator_name)\n\u001b[1;32m    797\u001b[0m         )\n\u001b[1;32m    799\u001b[0m     \u001b[38;5;28;01mif\u001b[39;00m force_all_finite:\n\u001b[0;32m--> 800\u001b[0m         \u001b[43m_assert_all_finite\u001b[49m\u001b[43m(\u001b[49m\u001b[43marray\u001b[49m\u001b[43m,\u001b[49m\u001b[43m \u001b[49m\u001b[43mallow_nan\u001b[49m\u001b[38;5;241;43m=\u001b[39;49m\u001b[43mforce_all_finite\u001b[49m\u001b[43m \u001b[49m\u001b[38;5;241;43m==\u001b[39;49m\u001b[43m \u001b[49m\u001b[38;5;124;43m\"\u001b[39;49m\u001b[38;5;124;43mallow-nan\u001b[39;49m\u001b[38;5;124;43m\"\u001b[39;49m\u001b[43m)\u001b[49m\n\u001b[1;32m    802\u001b[0m \u001b[38;5;28;01mif\u001b[39;00m ensure_min_samples \u001b[38;5;241m>\u001b[39m \u001b[38;5;241m0\u001b[39m:\n\u001b[1;32m    803\u001b[0m     n_samples \u001b[38;5;241m=\u001b[39m _num_samples(array)\n",
      "File \u001b[0;32m~/opt/anaconda3/envs/ML_labs/lib/python3.10/site-packages/sklearn/utils/validation.py:114\u001b[0m, in \u001b[0;36m_assert_all_finite\u001b[0;34m(X, allow_nan, msg_dtype)\u001b[0m\n\u001b[1;32m    107\u001b[0m     \u001b[38;5;28;01mif\u001b[39;00m (\n\u001b[1;32m    108\u001b[0m         allow_nan\n\u001b[1;32m    109\u001b[0m         \u001b[38;5;129;01mand\u001b[39;00m np\u001b[38;5;241m.\u001b[39misinf(X)\u001b[38;5;241m.\u001b[39many()\n\u001b[1;32m    110\u001b[0m         \u001b[38;5;129;01mor\u001b[39;00m \u001b[38;5;129;01mnot\u001b[39;00m allow_nan\n\u001b[1;32m    111\u001b[0m         \u001b[38;5;129;01mand\u001b[39;00m \u001b[38;5;129;01mnot\u001b[39;00m np\u001b[38;5;241m.\u001b[39misfinite(X)\u001b[38;5;241m.\u001b[39mall()\n\u001b[1;32m    112\u001b[0m     ):\n\u001b[1;32m    113\u001b[0m         type_err \u001b[38;5;241m=\u001b[39m \u001b[38;5;124m\"\u001b[39m\u001b[38;5;124minfinity\u001b[39m\u001b[38;5;124m\"\u001b[39m \u001b[38;5;28;01mif\u001b[39;00m allow_nan \u001b[38;5;28;01melse\u001b[39;00m \u001b[38;5;124m\"\u001b[39m\u001b[38;5;124mNaN, infinity\u001b[39m\u001b[38;5;124m\"\u001b[39m\n\u001b[0;32m--> 114\u001b[0m         \u001b[38;5;28;01mraise\u001b[39;00m \u001b[38;5;167;01mValueError\u001b[39;00m(\n\u001b[1;32m    115\u001b[0m             msg_err\u001b[38;5;241m.\u001b[39mformat(\n\u001b[1;32m    116\u001b[0m                 type_err, msg_dtype \u001b[38;5;28;01mif\u001b[39;00m msg_dtype \u001b[38;5;129;01mis\u001b[39;00m \u001b[38;5;129;01mnot\u001b[39;00m \u001b[38;5;28;01mNone\u001b[39;00m \u001b[38;5;28;01melse\u001b[39;00m X\u001b[38;5;241m.\u001b[39mdtype\n\u001b[1;32m    117\u001b[0m             )\n\u001b[1;32m    118\u001b[0m         )\n\u001b[1;32m    119\u001b[0m \u001b[38;5;66;03m# for object dtype data, we only check for NaNs (GH-13254)\u001b[39;00m\n\u001b[1;32m    120\u001b[0m \u001b[38;5;28;01melif\u001b[39;00m X\u001b[38;5;241m.\u001b[39mdtype \u001b[38;5;241m==\u001b[39m np\u001b[38;5;241m.\u001b[39mdtype(\u001b[38;5;124m\"\u001b[39m\u001b[38;5;124mobject\u001b[39m\u001b[38;5;124m\"\u001b[39m) \u001b[38;5;129;01mand\u001b[39;00m \u001b[38;5;129;01mnot\u001b[39;00m allow_nan:\n",
      "\u001b[0;31mValueError\u001b[0m: Input contains NaN, infinity or a value too large for dtype('float64')."
     ]
    }
   ],
   "source": [
    "# Choose an ensemble method and apply it to the California housing dataset\n",
    "\n",
    "num_models = 200 # number of base classifiers\n",
    "sample_size = 2000  # sample training set size.\n",
    "np.random.seed(0)\n",
    "\n",
    "# initialise the sample weights for all data points in the training set.\n",
    "sample_weights = np.ones(X_train.shape[0])/X_train.shape[0]\n",
    "\n",
    "alphas = []\n",
    "all_models = []\n",
    "for m in range(num_models):\n",
    "    # Sample with replacement from the training set. \n",
    "    sample_idx = np.random.choice(X_train.shape[0], sample_size)\n",
    "    X_train_sample, y_train_sample = X_train[sample_idx], y_train[sample_idx]\n",
    "    \n",
    "    print(sample_weights[sample_idx])\n",
    "\n",
    "    model = DecisionTreeRegressor(max_depth=10)\n",
    "    \n",
    "    # train a decision tree classifier on the weighted random sample.\n",
    "    model.fit(X_train_sample, y_train_sample, sample_weights[sample_idx])\n",
    "    \n",
    "    # compute the model error using weighted accuracy for the sampled training dataset\n",
    "    error = 1-model.score(X_train_sample, y_train_sample, sample_weights[sample_idx])\n",
    "\n",
    "    # calculate alpha for the model and append alpha to alphas\n",
    "    alpha = np.log((1-error)/error)\n",
    "    alphas.append(alpha)\n",
    "    \n",
    "    # update the sample_weights for incorrect predictions using alpha\n",
    "    incorrect_preds = model.predict(X_train_sample) != y_train_sample\n",
    "    sample_weights[sample_idx] *= np.exp(alpha*incorrect_preds)\n",
    "    \n",
    "    all_models.append(model)"
   ]
  },
  {
   "cell_type": "code",
   "execution_count": null,
   "metadata": {},
   "outputs": [],
   "source": []
  }
 ],
 "metadata": {
  "kernelspec": {
   "display_name": "ML_labs",
   "language": "python",
   "name": "ml_labs"
  },
  "language_info": {
   "codemirror_mode": {
    "name": "ipython",
    "version": 3
   },
   "file_extension": ".py",
   "mimetype": "text/x-python",
   "name": "python",
   "nbconvert_exporter": "python",
   "pygments_lexer": "ipython3",
   "version": "3.10.4"
  }
 },
 "nbformat": 4,
 "nbformat_minor": 4
}
